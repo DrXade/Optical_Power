{
 "cells": [
  {
   "cell_type": "code",
   "execution_count": 2,
   "id": "aad157ff-ebb0-45cd-b25e-8400fc838e6f",
   "metadata": {},
   "outputs": [],
   "source": [
    "import pandas as pd\n",
    "import numpy as np\n",
    "import matplotlib.pyplot as plt\n",
    "import seaborn as sns\n",
    "import statsmodels.api as sm"
   ]
  },
  {
   "cell_type": "code",
   "execution_count": null,
   "id": "f9599c82-6624-4f2d-bd7d-317b140f0bca",
   "metadata": {},
   "outputs": [],
   "source": [
    "olt = pd.read_excel(r\"C:\\Users\\User\\Desktop\\Study Guide\\ML Projects\\Linear Regression\\ML_Optical_Power\\Optical_Power\\Multiple linear regression.xlsx\")"
   ]
  },
  {
   "cell_type": "code",
   "execution_count": 9,
   "id": "dba9cd02-8f75-426d-b87e-a0834ce92105",
   "metadata": {},
   "outputs": [
    {
     "data": {
      "text/html": [
       "<div>\n",
       "<style scoped>\n",
       "    .dataframe tbody tr th:only-of-type {\n",
       "        vertical-align: middle;\n",
       "    }\n",
       "\n",
       "    .dataframe tbody tr th {\n",
       "        vertical-align: top;\n",
       "    }\n",
       "\n",
       "    .dataframe thead th {\n",
       "        text-align: right;\n",
       "    }\n",
       "</style>\n",
       "<table border=\"1\" class=\"dataframe\">\n",
       "  <thead>\n",
       "    <tr style=\"text-align: right;\">\n",
       "      <th></th>\n",
       "      <th>Date</th>\n",
       "      <th>OLT</th>\n",
       "      <th>SN</th>\n",
       "      <th>PN</th>\n",
       "      <th>ONTID</th>\n",
       "      <th>OPTICSRXPOWER</th>\n",
       "      <th>OPTICSRXPOWERbyOLT</th>\n",
       "      <th>ACCOUNT NUMBER</th>\n",
       "      <th>FAT_ID</th>\n",
       "      <th>FDT</th>\n",
       "    </tr>\n",
       "  </thead>\n",
       "  <tbody>\n",
       "    <tr>\n",
       "      <th>0</th>\n",
       "      <td>2024-08-01</td>\n",
       "      <td>TCI45501OLT01</td>\n",
       "      <td>1</td>\n",
       "      <td>0</td>\n",
       "      <td>0</td>\n",
       "      <td>--</td>\n",
       "      <td>--</td>\n",
       "      <td>--</td>\n",
       "      <td>--</td>\n",
       "      <td>--</td>\n",
       "    </tr>\n",
       "    <tr>\n",
       "      <th>1</th>\n",
       "      <td>2024-08-01</td>\n",
       "      <td>TCI45501OLT01</td>\n",
       "      <td>1</td>\n",
       "      <td>0</td>\n",
       "      <td>1</td>\n",
       "      <td>--</td>\n",
       "      <td>--</td>\n",
       "      <td>--</td>\n",
       "      <td>--</td>\n",
       "      <td>--</td>\n",
       "    </tr>\n",
       "    <tr>\n",
       "      <th>2</th>\n",
       "      <td>2024-08-01</td>\n",
       "      <td>TCI45501OLT01</td>\n",
       "      <td>1</td>\n",
       "      <td>0</td>\n",
       "      <td>2</td>\n",
       "      <td>-1777</td>\n",
       "      <td>-2018</td>\n",
       "      <td>242000164707</td>\n",
       "      <td>TCI45501A/D01a/P003</td>\n",
       "      <td>TCI45501A/D01</td>\n",
       "    </tr>\n",
       "    <tr>\n",
       "      <th>3</th>\n",
       "      <td>2024-08-01</td>\n",
       "      <td>TCI45501OLT01</td>\n",
       "      <td>1</td>\n",
       "      <td>0</td>\n",
       "      <td>3</td>\n",
       "      <td>-1759</td>\n",
       "      <td>-2051</td>\n",
       "      <td>242000256147</td>\n",
       "      <td>TCI45501A/D01a/P001</td>\n",
       "      <td>TCI45501A/D01</td>\n",
       "    </tr>\n",
       "    <tr>\n",
       "      <th>4</th>\n",
       "      <td>2024-08-01</td>\n",
       "      <td>TCI45501OLT01</td>\n",
       "      <td>1</td>\n",
       "      <td>0</td>\n",
       "      <td>4</td>\n",
       "      <td>-1812</td>\n",
       "      <td>-2032</td>\n",
       "      <td>242000082754</td>\n",
       "      <td>TCI45501A/D01a/P003</td>\n",
       "      <td>TCI45501A/D01</td>\n",
       "    </tr>\n",
       "  </tbody>\n",
       "</table>\n",
       "</div>"
      ],
      "text/plain": [
       "        Date            OLT  SN  PN  ONTID OPTICSRXPOWER OPTICSRXPOWERbyOLT  \\\n",
       "0 2024-08-01  TCI45501OLT01   1   0      0            --                 --   \n",
       "1 2024-08-01  TCI45501OLT01   1   0      1            --                 --   \n",
       "2 2024-08-01  TCI45501OLT01   1   0      2         -1777              -2018   \n",
       "3 2024-08-01  TCI45501OLT01   1   0      3         -1759              -2051   \n",
       "4 2024-08-01  TCI45501OLT01   1   0      4         -1812              -2032   \n",
       "\n",
       "  ACCOUNT NUMBER               FAT_ID            FDT  \n",
       "0             --                   --             --  \n",
       "1             --                   --             --  \n",
       "2   242000164707  TCI45501A/D01a/P003  TCI45501A/D01  \n",
       "3   242000256147  TCI45501A/D01a/P001  TCI45501A/D01  \n",
       "4   242000082754  TCI45501A/D01a/P003  TCI45501A/D01  "
      ]
     },
     "execution_count": 9,
     "metadata": {},
     "output_type": "execute_result"
    }
   ],
   "source": [
    "olt.head()"
   ]
  },
  {
   "cell_type": "code",
   "execution_count": 10,
   "id": "cfb1ec41-3e60-4bc0-8952-5278eab7375a",
   "metadata": {},
   "outputs": [
    {
     "name": "stdout",
     "output_type": "stream",
     "text": [
      "<class 'pandas.core.frame.DataFrame'>\n",
      "RangeIndex: 112395 entries, 0 to 112394\n",
      "Data columns (total 10 columns):\n",
      " #   Column              Non-Null Count   Dtype         \n",
      "---  ------              --------------   -----         \n",
      " 0   Date                112395 non-null  datetime64[ns]\n",
      " 1   OLT                 112395 non-null  object        \n",
      " 2   SN                  112395 non-null  int64         \n",
      " 3   PN                  112395 non-null  int64         \n",
      " 4   ONTID               112395 non-null  int64         \n",
      " 5   OPTICSRXPOWER       112395 non-null  object        \n",
      " 6   OPTICSRXPOWERbyOLT  112395 non-null  object        \n",
      " 7   ACCOUNT NUMBER      112395 non-null  object        \n",
      " 8   FAT_ID              112395 non-null  object        \n",
      " 9   FDT                 112395 non-null  object        \n",
      "dtypes: datetime64[ns](1), int64(3), object(6)\n",
      "memory usage: 8.6+ MB\n"
     ]
    }
   ],
   "source": [
    "olt.info()"
   ]
  },
  {
   "cell_type": "code",
   "execution_count": 18,
   "id": "b245a400-a928-4c95-a85e-7833764f1952",
   "metadata": {},
   "outputs": [
    {
     "data": {
      "text/plain": [
       "(112395, 10)"
      ]
     },
     "execution_count": 18,
     "metadata": {},
     "output_type": "execute_result"
    }
   ],
   "source": [
    "olt.shape"
   ]
  },
  {
   "cell_type": "code",
   "execution_count": 20,
   "id": "36f967e8-25a7-4daa-a120-ea83d0abc4b0",
   "metadata": {},
   "outputs": [
    {
     "data": {
      "text/html": [
       "<div>\n",
       "<style scoped>\n",
       "    .dataframe tbody tr th:only-of-type {\n",
       "        vertical-align: middle;\n",
       "    }\n",
       "\n",
       "    .dataframe tbody tr th {\n",
       "        vertical-align: top;\n",
       "    }\n",
       "\n",
       "    .dataframe thead th {\n",
       "        text-align: right;\n",
       "    }\n",
       "</style>\n",
       "<table border=\"1\" class=\"dataframe\">\n",
       "  <thead>\n",
       "    <tr style=\"text-align: right;\">\n",
       "      <th></th>\n",
       "      <th>Date</th>\n",
       "      <th>OLT</th>\n",
       "      <th>SN</th>\n",
       "      <th>PN</th>\n",
       "      <th>ONTID</th>\n",
       "      <th>OPTICSRXPOWER</th>\n",
       "      <th>OPTICSRXPOWERbyOLT</th>\n",
       "      <th>ACCOUNT NUMBER</th>\n",
       "      <th>FAT_ID</th>\n",
       "      <th>FDT</th>\n",
       "    </tr>\n",
       "  </thead>\n",
       "  <tbody>\n",
       "    <tr>\n",
       "      <th>95918</th>\n",
       "      <td>2024-08-27</td>\n",
       "      <td>TUJ02701OLT01</td>\n",
       "      <td>12</td>\n",
       "      <td>5</td>\n",
       "      <td>0</td>\n",
       "      <td>--</td>\n",
       "      <td>--</td>\n",
       "      <td>242000059203</td>\n",
       "      <td>TUJ02701B/D17a/P009</td>\n",
       "      <td>TUJ02701B/D17</td>\n",
       "    </tr>\n",
       "    <tr>\n",
       "      <th>83423</th>\n",
       "      <td>2024-08-23</td>\n",
       "      <td>TSD40101OLT01</td>\n",
       "      <td>14</td>\n",
       "      <td>9</td>\n",
       "      <td>4</td>\n",
       "      <td>-1682</td>\n",
       "      <td>-1833</td>\n",
       "      <td>242000113359</td>\n",
       "      <td>TSD40101D/D31b/P021</td>\n",
       "      <td>TSD40101D/D31</td>\n",
       "    </tr>\n",
       "    <tr>\n",
       "      <th>74208</th>\n",
       "      <td>2024-08-21</td>\n",
       "      <td>TPL17701OLT01</td>\n",
       "      <td>7</td>\n",
       "      <td>9</td>\n",
       "      <td>10</td>\n",
       "      <td>-1705</td>\n",
       "      <td>-1755</td>\n",
       "      <td>242000212209</td>\n",
       "      <td>TPL17701B/D14b/P009</td>\n",
       "      <td>TPL17701B/D14</td>\n",
       "    </tr>\n",
       "    <tr>\n",
       "      <th>6527</th>\n",
       "      <td>2024-08-02</td>\n",
       "      <td>TCI45501OLT02</td>\n",
       "      <td>3</td>\n",
       "      <td>3</td>\n",
       "      <td>3</td>\n",
       "      <td>-2200</td>\n",
       "      <td>-2553</td>\n",
       "      <td>242000153402</td>\n",
       "      <td>TCI45501B/D16a/P015</td>\n",
       "      <td>TCI45501B/D16</td>\n",
       "    </tr>\n",
       "    <tr>\n",
       "      <th>41314</th>\n",
       "      <td>2024-08-12</td>\n",
       "      <td>TFO45301OLT01</td>\n",
       "      <td>1</td>\n",
       "      <td>7</td>\n",
       "      <td>4</td>\n",
       "      <td>--</td>\n",
       "      <td>--</td>\n",
       "      <td>242000244976</td>\n",
       "      <td>TFO45301A/D01c/P027</td>\n",
       "      <td>TFO45301A/D01</td>\n",
       "    </tr>\n",
       "    <tr>\n",
       "      <th>24777</th>\n",
       "      <td>2024-08-07</td>\n",
       "      <td>TDB16001OLT01</td>\n",
       "      <td>13</td>\n",
       "      <td>10</td>\n",
       "      <td>2</td>\n",
       "      <td>-1958</td>\n",
       "      <td>-2409</td>\n",
       "      <td>242000230568</td>\n",
       "      <td>TDB16001B/D19b/P026</td>\n",
       "      <td>TDB16001B/D19</td>\n",
       "    </tr>\n",
       "    <tr>\n",
       "      <th>6841</th>\n",
       "      <td>2024-08-02</td>\n",
       "      <td>TCI45501OLT02</td>\n",
       "      <td>3</td>\n",
       "      <td>14</td>\n",
       "      <td>17</td>\n",
       "      <td>-2310</td>\n",
       "      <td>-2293</td>\n",
       "      <td>242000079018</td>\n",
       "      <td>TCI45501B/D17a/P018</td>\n",
       "      <td>TCI45501B/D17</td>\n",
       "    </tr>\n",
       "    <tr>\n",
       "      <th>73167</th>\n",
       "      <td>2024-08-21</td>\n",
       "      <td>TPL17701OLT01</td>\n",
       "      <td>4</td>\n",
       "      <td>13</td>\n",
       "      <td>3</td>\n",
       "      <td>-1987</td>\n",
       "      <td>-2108</td>\n",
       "      <td>242000195761</td>\n",
       "      <td>TPL17701A/D09b/P007</td>\n",
       "      <td>TPL17701A/D09</td>\n",
       "    </tr>\n",
       "    <tr>\n",
       "      <th>35314</th>\n",
       "      <td>2024-08-10</td>\n",
       "      <td>TDV09201OLT01</td>\n",
       "      <td>7</td>\n",
       "      <td>0</td>\n",
       "      <td>26</td>\n",
       "      <td>-1879</td>\n",
       "      <td>-2181</td>\n",
       "      <td>242000273014</td>\n",
       "      <td>TDV09202A/D09a/P002</td>\n",
       "      <td>TDV09202A/D09</td>\n",
       "    </tr>\n",
       "    <tr>\n",
       "      <th>92391</th>\n",
       "      <td>2024-08-26</td>\n",
       "      <td>TSU70801OLT01</td>\n",
       "      <td>16</td>\n",
       "      <td>0</td>\n",
       "      <td>4</td>\n",
       "      <td>-1692</td>\n",
       "      <td>-1936</td>\n",
       "      <td>242000233088</td>\n",
       "      <td>TSU70801B/D10a/P038</td>\n",
       "      <td>TSU70801B/D10</td>\n",
       "    </tr>\n",
       "  </tbody>\n",
       "</table>\n",
       "</div>"
      ],
      "text/plain": [
       "            Date            OLT  SN  PN  ONTID OPTICSRXPOWER  \\\n",
       "95918 2024-08-27  TUJ02701OLT01  12   5      0            --   \n",
       "83423 2024-08-23  TSD40101OLT01  14   9      4         -1682   \n",
       "74208 2024-08-21  TPL17701OLT01   7   9     10         -1705   \n",
       "6527  2024-08-02  TCI45501OLT02   3   3      3         -2200   \n",
       "41314 2024-08-12  TFO45301OLT01   1   7      4            --   \n",
       "24777 2024-08-07  TDB16001OLT01  13  10      2         -1958   \n",
       "6841  2024-08-02  TCI45501OLT02   3  14     17         -2310   \n",
       "73167 2024-08-21  TPL17701OLT01   4  13      3         -1987   \n",
       "35314 2024-08-10  TDV09201OLT01   7   0     26         -1879   \n",
       "92391 2024-08-26  TSU70801OLT01  16   0      4         -1692   \n",
       "\n",
       "      OPTICSRXPOWERbyOLT ACCOUNT NUMBER               FAT_ID            FDT  \n",
       "95918                 --   242000059203  TUJ02701B/D17a/P009  TUJ02701B/D17  \n",
       "83423              -1833   242000113359  TSD40101D/D31b/P021  TSD40101D/D31  \n",
       "74208              -1755   242000212209  TPL17701B/D14b/P009  TPL17701B/D14  \n",
       "6527               -2553   242000153402  TCI45501B/D16a/P015  TCI45501B/D16  \n",
       "41314                 --   242000244976  TFO45301A/D01c/P027  TFO45301A/D01  \n",
       "24777              -2409   242000230568  TDB16001B/D19b/P026  TDB16001B/D19  \n",
       "6841               -2293   242000079018  TCI45501B/D17a/P018  TCI45501B/D17  \n",
       "73167              -2108   242000195761  TPL17701A/D09b/P007  TPL17701A/D09  \n",
       "35314              -2181   242000273014  TDV09202A/D09a/P002  TDV09202A/D09  \n",
       "92391              -1936   242000233088  TSU70801B/D10a/P038  TSU70801B/D10  "
      ]
     },
     "execution_count": 20,
     "metadata": {},
     "output_type": "execute_result"
    }
   ],
   "source": [
    "olt.sample(10)"
   ]
  },
  {
   "cell_type": "code",
   "execution_count": 16,
   "id": "da4bbbd6-00f1-43d0-8215-dd13365d2179",
   "metadata": {},
   "outputs": [
    {
     "data": {
      "text/html": [
       "<div>\n",
       "<style scoped>\n",
       "    .dataframe tbody tr th:only-of-type {\n",
       "        vertical-align: middle;\n",
       "    }\n",
       "\n",
       "    .dataframe tbody tr th {\n",
       "        vertical-align: top;\n",
       "    }\n",
       "\n",
       "    .dataframe thead th {\n",
       "        text-align: right;\n",
       "    }\n",
       "</style>\n",
       "<table border=\"1\" class=\"dataframe\">\n",
       "  <thead>\n",
       "    <tr style=\"text-align: right;\">\n",
       "      <th></th>\n",
       "      <th>SN</th>\n",
       "      <th>PN</th>\n",
       "      <th>ONTID</th>\n",
       "    </tr>\n",
       "  </thead>\n",
       "  <tbody>\n",
       "    <tr>\n",
       "      <th>SN</th>\n",
       "      <td>1.000000</td>\n",
       "      <td>-0.022853</td>\n",
       "      <td>-0.043570</td>\n",
       "    </tr>\n",
       "    <tr>\n",
       "      <th>PN</th>\n",
       "      <td>-0.022853</td>\n",
       "      <td>1.000000</td>\n",
       "      <td>-0.002142</td>\n",
       "    </tr>\n",
       "    <tr>\n",
       "      <th>ONTID</th>\n",
       "      <td>-0.043570</td>\n",
       "      <td>-0.002142</td>\n",
       "      <td>1.000000</td>\n",
       "    </tr>\n",
       "  </tbody>\n",
       "</table>\n",
       "</div>"
      ],
      "text/plain": [
       "             SN        PN     ONTID\n",
       "SN     1.000000 -0.022853 -0.043570\n",
       "PN    -0.022853  1.000000 -0.002142\n",
       "ONTID -0.043570 -0.002142  1.000000"
      ]
     },
     "execution_count": 16,
     "metadata": {},
     "output_type": "execute_result"
    }
   ],
   "source": [
    "olt.corr(numeric_only = True)"
   ]
  },
  {
   "cell_type": "code",
   "execution_count": 26,
   "id": "ce89b116-8b32-4934-bc29-3be594f78c70",
   "metadata": {},
   "outputs": [],
   "source": [
    "pd.set_option('future.no_silent_downcasting', True)"
   ]
  },
  {
   "cell_type": "code",
   "execution_count": 27,
   "id": "db69d9c0-8bb0-4011-8bb0-16e429a3563b",
   "metadata": {},
   "outputs": [],
   "source": [
    "no_dashes = [\"OPTICSRXPOWER\",\"OPTICSRXPOWERbyOLT\"]\n",
    "\n",
    "for column in no_dashes:\n",
    "    olt[column] = olt[column].replace(\"--\",np.nan)"
   ]
  },
  {
   "cell_type": "code",
   "execution_count": 32,
   "id": "2d743138-03cf-44d7-903b-9550cb938d1d",
   "metadata": {},
   "outputs": [
    {
     "data": {
      "text/html": [
       "<div>\n",
       "<style scoped>\n",
       "    .dataframe tbody tr th:only-of-type {\n",
       "        vertical-align: middle;\n",
       "    }\n",
       "\n",
       "    .dataframe tbody tr th {\n",
       "        vertical-align: top;\n",
       "    }\n",
       "\n",
       "    .dataframe thead th {\n",
       "        text-align: right;\n",
       "    }\n",
       "</style>\n",
       "<table border=\"1\" class=\"dataframe\">\n",
       "  <thead>\n",
       "    <tr style=\"text-align: right;\">\n",
       "      <th></th>\n",
       "      <th>Date</th>\n",
       "      <th>OLT</th>\n",
       "      <th>SN</th>\n",
       "      <th>PN</th>\n",
       "      <th>ONTID</th>\n",
       "      <th>OPTICSRXPOWER</th>\n",
       "      <th>OPTICSRXPOWERbyOLT</th>\n",
       "      <th>ACCOUNT NUMBER</th>\n",
       "      <th>FAT_ID</th>\n",
       "      <th>FDT</th>\n",
       "    </tr>\n",
       "  </thead>\n",
       "  <tbody>\n",
       "    <tr>\n",
       "      <th>16383</th>\n",
       "      <td>2024-08-05</td>\n",
       "      <td>TCX18501OLT01</td>\n",
       "      <td>2</td>\n",
       "      <td>14</td>\n",
       "      <td>15</td>\n",
       "      <td>-2017.0</td>\n",
       "      <td>-2388.0</td>\n",
       "      <td>242000179692</td>\n",
       "      <td>TCX18501A/D04a/P001</td>\n",
       "      <td>TCX18501A/D04</td>\n",
       "    </tr>\n",
       "    <tr>\n",
       "      <th>44412</th>\n",
       "      <td>2024-08-12</td>\n",
       "      <td>TFO45301OLT01</td>\n",
       "      <td>13</td>\n",
       "      <td>11</td>\n",
       "      <td>8</td>\n",
       "      <td>-1882.0</td>\n",
       "      <td>-2103.0</td>\n",
       "      <td>242000158320</td>\n",
       "      <td>TFO45301B/D18a/P017</td>\n",
       "      <td>TFO45301B/D18</td>\n",
       "    </tr>\n",
       "    <tr>\n",
       "      <th>26792</th>\n",
       "      <td>2024-08-08</td>\n",
       "      <td>TDE06501OLT01</td>\n",
       "      <td>7</td>\n",
       "      <td>9</td>\n",
       "      <td>18</td>\n",
       "      <td>-2537.0</td>\n",
       "      <td>-3046.0</td>\n",
       "      <td>242000081526</td>\n",
       "      <td>TDE06501B/D12a/E006</td>\n",
       "      <td>TDE06501B/D12</td>\n",
       "    </tr>\n",
       "    <tr>\n",
       "      <th>12057</th>\n",
       "      <td>2024-08-04</td>\n",
       "      <td>TCS10001OLT01</td>\n",
       "      <td>3</td>\n",
       "      <td>12</td>\n",
       "      <td>17</td>\n",
       "      <td>-1804.0</td>\n",
       "      <td>-1890.0</td>\n",
       "      <td>242000105946</td>\n",
       "      <td>TCS10001A/D05b/P018</td>\n",
       "      <td>TCS10001A/D05</td>\n",
       "    </tr>\n",
       "    <tr>\n",
       "      <th>7415</th>\n",
       "      <td>2024-08-02</td>\n",
       "      <td>TCI45501OLT02</td>\n",
       "      <td>5</td>\n",
       "      <td>9</td>\n",
       "      <td>11</td>\n",
       "      <td>-1841.0</td>\n",
       "      <td>-2168.0</td>\n",
       "      <td>242000284274</td>\n",
       "      <td>TCI45501B/D20b/P030</td>\n",
       "      <td>TCI45501B/D20</td>\n",
       "    </tr>\n",
       "    <tr>\n",
       "      <th>37878</th>\n",
       "      <td>2024-08-10</td>\n",
       "      <td>TDV09201OLT01</td>\n",
       "      <td>16</td>\n",
       "      <td>8</td>\n",
       "      <td>22</td>\n",
       "      <td>-1636.0</td>\n",
       "      <td>-2027.0</td>\n",
       "      <td>242000013039</td>\n",
       "      <td>TDV09202C/D19a/P004</td>\n",
       "      <td>TDV09202C/D19</td>\n",
       "    </tr>\n",
       "    <tr>\n",
       "      <th>7611</th>\n",
       "      <td>2024-08-03</td>\n",
       "      <td>TCP71101OLT01</td>\n",
       "      <td>1</td>\n",
       "      <td>6</td>\n",
       "      <td>14</td>\n",
       "      <td>NaN</td>\n",
       "      <td>NaN</td>\n",
       "      <td>242000288789</td>\n",
       "      <td>TCP71101A/D01b/P025</td>\n",
       "      <td>TCP71101A/D01</td>\n",
       "    </tr>\n",
       "    <tr>\n",
       "      <th>106563</th>\n",
       "      <td>2024-08-30</td>\n",
       "      <td>TAR40901OLT01</td>\n",
       "      <td>6</td>\n",
       "      <td>15</td>\n",
       "      <td>11</td>\n",
       "      <td>-1545.0</td>\n",
       "      <td>-1794.0</td>\n",
       "      <td>242000046854</td>\n",
       "      <td>TAR40901B/D11a/P007</td>\n",
       "      <td>TAR40901B/D11</td>\n",
       "    </tr>\n",
       "    <tr>\n",
       "      <th>36567</th>\n",
       "      <td>2024-08-10</td>\n",
       "      <td>TDV09201OLT01</td>\n",
       "      <td>12</td>\n",
       "      <td>7</td>\n",
       "      <td>12</td>\n",
       "      <td>-1518.0</td>\n",
       "      <td>-1676.0</td>\n",
       "      <td>242000153101</td>\n",
       "      <td>TDV09202C/D13c/P029</td>\n",
       "      <td>TDV09202C/D13</td>\n",
       "    </tr>\n",
       "    <tr>\n",
       "      <th>212</th>\n",
       "      <td>2024-08-01</td>\n",
       "      <td>TCI45501OLT01</td>\n",
       "      <td>1</td>\n",
       "      <td>9</td>\n",
       "      <td>17</td>\n",
       "      <td>NaN</td>\n",
       "      <td>NaN</td>\n",
       "      <td>242000078296</td>\n",
       "      <td>TCI45501A/D01c/P037</td>\n",
       "      <td>TCI45501A/D01</td>\n",
       "    </tr>\n",
       "  </tbody>\n",
       "</table>\n",
       "</div>"
      ],
      "text/plain": [
       "             Date            OLT  SN  PN  ONTID  OPTICSRXPOWER  \\\n",
       "16383  2024-08-05  TCX18501OLT01   2  14     15        -2017.0   \n",
       "44412  2024-08-12  TFO45301OLT01  13  11      8        -1882.0   \n",
       "26792  2024-08-08  TDE06501OLT01   7   9     18        -2537.0   \n",
       "12057  2024-08-04  TCS10001OLT01   3  12     17        -1804.0   \n",
       "7415   2024-08-02  TCI45501OLT02   5   9     11        -1841.0   \n",
       "37878  2024-08-10  TDV09201OLT01  16   8     22        -1636.0   \n",
       "7611   2024-08-03  TCP71101OLT01   1   6     14            NaN   \n",
       "106563 2024-08-30  TAR40901OLT01   6  15     11        -1545.0   \n",
       "36567  2024-08-10  TDV09201OLT01  12   7     12        -1518.0   \n",
       "212    2024-08-01  TCI45501OLT01   1   9     17            NaN   \n",
       "\n",
       "        OPTICSRXPOWERbyOLT ACCOUNT NUMBER               FAT_ID            FDT  \n",
       "16383              -2388.0   242000179692  TCX18501A/D04a/P001  TCX18501A/D04  \n",
       "44412              -2103.0   242000158320  TFO45301B/D18a/P017  TFO45301B/D18  \n",
       "26792              -3046.0   242000081526  TDE06501B/D12a/E006  TDE06501B/D12  \n",
       "12057              -1890.0   242000105946  TCS10001A/D05b/P018  TCS10001A/D05  \n",
       "7415               -2168.0   242000284274  TCI45501B/D20b/P030  TCI45501B/D20  \n",
       "37878              -2027.0   242000013039  TDV09202C/D19a/P004  TDV09202C/D19  \n",
       "7611                   NaN   242000288789  TCP71101A/D01b/P025  TCP71101A/D01  \n",
       "106563             -1794.0   242000046854  TAR40901B/D11a/P007  TAR40901B/D11  \n",
       "36567              -1676.0   242000153101  TDV09202C/D13c/P029  TDV09202C/D13  \n",
       "212                    NaN   242000078296  TCI45501A/D01c/P037  TCI45501A/D01  "
      ]
     },
     "execution_count": 32,
     "metadata": {},
     "output_type": "execute_result"
    }
   ],
   "source": [
    "olt.sample(10)"
   ]
  },
  {
   "cell_type": "code",
   "execution_count": 33,
   "id": "d2c54c06-a68b-47bc-92e3-3768edc000ab",
   "metadata": {},
   "outputs": [
    {
     "name": "stdout",
     "output_type": "stream",
     "text": [
      "<class 'pandas.core.frame.DataFrame'>\n",
      "RangeIndex: 112395 entries, 0 to 112394\n",
      "Data columns (total 10 columns):\n",
      " #   Column              Non-Null Count   Dtype         \n",
      "---  ------              --------------   -----         \n",
      " 0   Date                112395 non-null  datetime64[ns]\n",
      " 1   OLT                 112395 non-null  object        \n",
      " 2   SN                  112395 non-null  int64         \n",
      " 3   PN                  112395 non-null  int64         \n",
      " 4   ONTID               112395 non-null  int64         \n",
      " 5   OPTICSRXPOWER       106894 non-null  float64       \n",
      " 6   OPTICSRXPOWERbyOLT  106897 non-null  float64       \n",
      " 7   ACCOUNT NUMBER      112395 non-null  object        \n",
      " 8   FAT_ID              112395 non-null  object        \n",
      " 9   FDT                 112395 non-null  object        \n",
      "dtypes: datetime64[ns](1), float64(2), int64(3), object(4)\n",
      "memory usage: 8.6+ MB\n"
     ]
    }
   ],
   "source": [
    "olt.info()"
   ]
  },
  {
   "cell_type": "code",
   "execution_count": 34,
   "id": "6207d978-10d0-4b3c-800f-c629ff2bf7ed",
   "metadata": {},
   "outputs": [],
   "source": [
    "oltm = olt.dropna()"
   ]
  },
  {
   "cell_type": "code",
   "execution_count": 35,
   "id": "9d03802d-7a3b-4e9d-8875-eb9260da5876",
   "metadata": {},
   "outputs": [
    {
     "name": "stdout",
     "output_type": "stream",
     "text": [
      "<class 'pandas.core.frame.DataFrame'>\n",
      "Index: 106894 entries, 2 to 112394\n",
      "Data columns (total 10 columns):\n",
      " #   Column              Non-Null Count   Dtype         \n",
      "---  ------              --------------   -----         \n",
      " 0   Date                106894 non-null  datetime64[ns]\n",
      " 1   OLT                 106894 non-null  object        \n",
      " 2   SN                  106894 non-null  int64         \n",
      " 3   PN                  106894 non-null  int64         \n",
      " 4   ONTID               106894 non-null  int64         \n",
      " 5   OPTICSRXPOWER       106894 non-null  float64       \n",
      " 6   OPTICSRXPOWERbyOLT  106894 non-null  float64       \n",
      " 7   ACCOUNT NUMBER      106894 non-null  object        \n",
      " 8   FAT_ID              106894 non-null  object        \n",
      " 9   FDT                 106894 non-null  object        \n",
      "dtypes: datetime64[ns](1), float64(2), int64(3), object(4)\n",
      "memory usage: 9.0+ MB\n"
     ]
    }
   ],
   "source": [
    "oltm.info()"
   ]
  },
  {
   "cell_type": "code",
   "execution_count": 36,
   "id": "0cc05d8c-47dd-48f2-bca8-8c8f327893c3",
   "metadata": {},
   "outputs": [
    {
     "data": {
      "text/html": [
       "<div>\n",
       "<style scoped>\n",
       "    .dataframe tbody tr th:only-of-type {\n",
       "        vertical-align: middle;\n",
       "    }\n",
       "\n",
       "    .dataframe tbody tr th {\n",
       "        vertical-align: top;\n",
       "    }\n",
       "\n",
       "    .dataframe thead th {\n",
       "        text-align: right;\n",
       "    }\n",
       "</style>\n",
       "<table border=\"1\" class=\"dataframe\">\n",
       "  <thead>\n",
       "    <tr style=\"text-align: right;\">\n",
       "      <th></th>\n",
       "      <th>SN</th>\n",
       "      <th>PN</th>\n",
       "      <th>ONTID</th>\n",
       "      <th>OPTICSRXPOWER</th>\n",
       "      <th>OPTICSRXPOWERbyOLT</th>\n",
       "    </tr>\n",
       "  </thead>\n",
       "  <tbody>\n",
       "    <tr>\n",
       "      <th>SN</th>\n",
       "      <td>1.000000</td>\n",
       "      <td>-0.023759</td>\n",
       "      <td>-0.043565</td>\n",
       "      <td>-0.027647</td>\n",
       "      <td>-0.033998</td>\n",
       "    </tr>\n",
       "    <tr>\n",
       "      <th>PN</th>\n",
       "      <td>-0.023759</td>\n",
       "      <td>1.000000</td>\n",
       "      <td>-0.002811</td>\n",
       "      <td>0.006115</td>\n",
       "      <td>-0.004221</td>\n",
       "    </tr>\n",
       "    <tr>\n",
       "      <th>ONTID</th>\n",
       "      <td>-0.043565</td>\n",
       "      <td>-0.002811</td>\n",
       "      <td>1.000000</td>\n",
       "      <td>-0.006647</td>\n",
       "      <td>-0.004911</td>\n",
       "    </tr>\n",
       "    <tr>\n",
       "      <th>OPTICSRXPOWER</th>\n",
       "      <td>-0.027647</td>\n",
       "      <td>0.006115</td>\n",
       "      <td>-0.006647</td>\n",
       "      <td>1.000000</td>\n",
       "      <td>0.880109</td>\n",
       "    </tr>\n",
       "    <tr>\n",
       "      <th>OPTICSRXPOWERbyOLT</th>\n",
       "      <td>-0.033998</td>\n",
       "      <td>-0.004221</td>\n",
       "      <td>-0.004911</td>\n",
       "      <td>0.880109</td>\n",
       "      <td>1.000000</td>\n",
       "    </tr>\n",
       "  </tbody>\n",
       "</table>\n",
       "</div>"
      ],
      "text/plain": [
       "                          SN        PN     ONTID  OPTICSRXPOWER  \\\n",
       "SN                  1.000000 -0.023759 -0.043565      -0.027647   \n",
       "PN                 -0.023759  1.000000 -0.002811       0.006115   \n",
       "ONTID              -0.043565 -0.002811  1.000000      -0.006647   \n",
       "OPTICSRXPOWER      -0.027647  0.006115 -0.006647       1.000000   \n",
       "OPTICSRXPOWERbyOLT -0.033998 -0.004221 -0.004911       0.880109   \n",
       "\n",
       "                    OPTICSRXPOWERbyOLT  \n",
       "SN                           -0.033998  \n",
       "PN                           -0.004221  \n",
       "ONTID                        -0.004911  \n",
       "OPTICSRXPOWER                 0.880109  \n",
       "OPTICSRXPOWERbyOLT            1.000000  "
      ]
     },
     "execution_count": 36,
     "metadata": {},
     "output_type": "execute_result"
    }
   ],
   "source": [
    "oltm.corr(numeric_only = True)"
   ]
  },
  {
   "cell_type": "code",
   "execution_count": 40,
   "id": "3ae766f3-affb-4642-920f-5aaf8fc73f47",
   "metadata": {},
   "outputs": [
    {
     "data": {
      "text/plain": [
       "array(['TCI45501OLT01', 'TCI45501OLT02', 'TCP71101OLT01', 'TCS10001OLT01',\n",
       "       'TCX18501OLT01', 'TDA47401OLT01', 'TDB16001OLT01', 'TDE06501OLT01',\n",
       "       'TDL35101OLT01', 'TDV09201OLT01', 'TES02001OLT01', 'TFO45301OLT01',\n",
       "       'TGG48401OLT01', 'TGR70401OLT01', 'TJO41601OLT01', 'TLV08501OLT01',\n",
       "       'TMY47301OLT01', 'TPA54901OLT01', 'TPH17101OLT01', 'TPI15901OLT01',\n",
       "       'TPL17701OLT01', 'TSA36401OLT01', 'TSD40101OLT01', 'TSD40102OLT02',\n",
       "       'TSK36201OLT01', 'TSU70801OLT01', 'TUJ02701OLT01', 'TAM54501OLT01',\n",
       "       'TAN80901OLT01', 'TAR40901OLT01', 'TAS47001OLT01'], dtype=object)"
      ]
     },
     "execution_count": 40,
     "metadata": {},
     "output_type": "execute_result"
    }
   ],
   "source": [
    "oltm[\"OLT\"].unique()"
   ]
  },
  {
   "cell_type": "code",
   "execution_count": 43,
   "id": "60bb2a89-52bf-4f29-a163-835f843cb402",
   "metadata": {},
   "outputs": [],
   "source": [
    "olt_encoded = pd.get_dummies(oltm, columns=['OLT', ], dtype=int)"
   ]
  },
  {
   "cell_type": "code",
   "execution_count": 47,
   "id": "2e91095e-371b-4c8e-ae2d-d9251734c06c",
   "metadata": {},
   "outputs": [
    {
     "data": {
      "text/html": [
       "<div>\n",
       "<style scoped>\n",
       "    .dataframe tbody tr th:only-of-type {\n",
       "        vertical-align: middle;\n",
       "    }\n",
       "\n",
       "    .dataframe tbody tr th {\n",
       "        vertical-align: top;\n",
       "    }\n",
       "\n",
       "    .dataframe thead th {\n",
       "        text-align: right;\n",
       "    }\n",
       "</style>\n",
       "<table border=\"1\" class=\"dataframe\">\n",
       "  <thead>\n",
       "    <tr style=\"text-align: right;\">\n",
       "      <th></th>\n",
       "      <th>Date</th>\n",
       "      <th>SN</th>\n",
       "      <th>PN</th>\n",
       "      <th>ONTID</th>\n",
       "      <th>OPTICSRXPOWER</th>\n",
       "      <th>OPTICSRXPOWERbyOLT</th>\n",
       "      <th>ACCOUNT NUMBER</th>\n",
       "      <th>FAT_ID</th>\n",
       "      <th>FDT</th>\n",
       "      <th>OLT_TAM54501OLT01</th>\n",
       "      <th>...</th>\n",
       "      <th>OLT_TPA54901OLT01</th>\n",
       "      <th>OLT_TPH17101OLT01</th>\n",
       "      <th>OLT_TPI15901OLT01</th>\n",
       "      <th>OLT_TPL17701OLT01</th>\n",
       "      <th>OLT_TSA36401OLT01</th>\n",
       "      <th>OLT_TSD40101OLT01</th>\n",
       "      <th>OLT_TSD40102OLT02</th>\n",
       "      <th>OLT_TSK36201OLT01</th>\n",
       "      <th>OLT_TSU70801OLT01</th>\n",
       "      <th>OLT_TUJ02701OLT01</th>\n",
       "    </tr>\n",
       "  </thead>\n",
       "  <tbody>\n",
       "    <tr>\n",
       "      <th>69254</th>\n",
       "      <td>2024-08-20</td>\n",
       "      <td>4</td>\n",
       "      <td>7</td>\n",
       "      <td>23</td>\n",
       "      <td>-1710.0</td>\n",
       "      <td>-2009.0</td>\n",
       "      <td>242000288731</td>\n",
       "      <td>TPI15901B/D13b/P021</td>\n",
       "      <td>TPI15901B/D13</td>\n",
       "      <td>0</td>\n",
       "      <td>...</td>\n",
       "      <td>0</td>\n",
       "      <td>0</td>\n",
       "      <td>1</td>\n",
       "      <td>0</td>\n",
       "      <td>0</td>\n",
       "      <td>0</td>\n",
       "      <td>0</td>\n",
       "      <td>0</td>\n",
       "      <td>0</td>\n",
       "      <td>0</td>\n",
       "    </tr>\n",
       "    <tr>\n",
       "      <th>74252</th>\n",
       "      <td>2024-08-21</td>\n",
       "      <td>7</td>\n",
       "      <td>11</td>\n",
       "      <td>3</td>\n",
       "      <td>-1987.0</td>\n",
       "      <td>-2338.0</td>\n",
       "      <td>242000099268</td>\n",
       "      <td>TPL17701B/D14b/P020</td>\n",
       "      <td>TPL17701B/D14</td>\n",
       "      <td>0</td>\n",
       "      <td>...</td>\n",
       "      <td>0</td>\n",
       "      <td>0</td>\n",
       "      <td>0</td>\n",
       "      <td>1</td>\n",
       "      <td>0</td>\n",
       "      <td>0</td>\n",
       "      <td>0</td>\n",
       "      <td>0</td>\n",
       "      <td>0</td>\n",
       "      <td>0</td>\n",
       "    </tr>\n",
       "    <tr>\n",
       "      <th>42017</th>\n",
       "      <td>2024-08-12</td>\n",
       "      <td>3</td>\n",
       "      <td>10</td>\n",
       "      <td>6</td>\n",
       "      <td>-1719.0</td>\n",
       "      <td>-1907.0</td>\n",
       "      <td>242000125868</td>\n",
       "      <td>TFO45301A/D05c/P007</td>\n",
       "      <td>TFO45301A/D05</td>\n",
       "      <td>0</td>\n",
       "      <td>...</td>\n",
       "      <td>0</td>\n",
       "      <td>0</td>\n",
       "      <td>0</td>\n",
       "      <td>0</td>\n",
       "      <td>0</td>\n",
       "      <td>0</td>\n",
       "      <td>0</td>\n",
       "      <td>0</td>\n",
       "      <td>0</td>\n",
       "      <td>0</td>\n",
       "    </tr>\n",
       "    <tr>\n",
       "      <th>107388</th>\n",
       "      <td>2024-08-30</td>\n",
       "      <td>11</td>\n",
       "      <td>11</td>\n",
       "      <td>0</td>\n",
       "      <td>-1675.0</td>\n",
       "      <td>-1845.0</td>\n",
       "      <td>242000036367</td>\n",
       "      <td>TAR40901B/D15c/P032</td>\n",
       "      <td>TAR40901B/D15</td>\n",
       "      <td>0</td>\n",
       "      <td>...</td>\n",
       "      <td>0</td>\n",
       "      <td>0</td>\n",
       "      <td>0</td>\n",
       "      <td>0</td>\n",
       "      <td>0</td>\n",
       "      <td>0</td>\n",
       "      <td>0</td>\n",
       "      <td>0</td>\n",
       "      <td>0</td>\n",
       "      <td>0</td>\n",
       "    </tr>\n",
       "    <tr>\n",
       "      <th>89990</th>\n",
       "      <td>2024-08-26</td>\n",
       "      <td>6</td>\n",
       "      <td>3</td>\n",
       "      <td>8</td>\n",
       "      <td>-1671.0</td>\n",
       "      <td>-1697.0</td>\n",
       "      <td>242000044392</td>\n",
       "      <td>TSU70801B/D09c/P034</td>\n",
       "      <td>TSU70801B/D09</td>\n",
       "      <td>0</td>\n",
       "      <td>...</td>\n",
       "      <td>0</td>\n",
       "      <td>0</td>\n",
       "      <td>0</td>\n",
       "      <td>0</td>\n",
       "      <td>0</td>\n",
       "      <td>0</td>\n",
       "      <td>0</td>\n",
       "      <td>0</td>\n",
       "      <td>1</td>\n",
       "      <td>0</td>\n",
       "    </tr>\n",
       "    <tr>\n",
       "      <th>5523</th>\n",
       "      <td>2024-08-02</td>\n",
       "      <td>0</td>\n",
       "      <td>11</td>\n",
       "      <td>6</td>\n",
       "      <td>-1597.0</td>\n",
       "      <td>-1740.0</td>\n",
       "      <td>242000076611</td>\n",
       "      <td>TCI45501B/D12a/P005</td>\n",
       "      <td>TCI45501B/D12</td>\n",
       "      <td>0</td>\n",
       "      <td>...</td>\n",
       "      <td>0</td>\n",
       "      <td>0</td>\n",
       "      <td>0</td>\n",
       "      <td>0</td>\n",
       "      <td>0</td>\n",
       "      <td>0</td>\n",
       "      <td>0</td>\n",
       "      <td>0</td>\n",
       "      <td>0</td>\n",
       "      <td>0</td>\n",
       "    </tr>\n",
       "    <tr>\n",
       "      <th>90622</th>\n",
       "      <td>2024-08-26</td>\n",
       "      <td>8</td>\n",
       "      <td>3</td>\n",
       "      <td>10</td>\n",
       "      <td>-1809.0</td>\n",
       "      <td>-1988.0</td>\n",
       "      <td>242000069459</td>\n",
       "      <td>TSU70801B/D13a/P008</td>\n",
       "      <td>TSU70801B/D13</td>\n",
       "      <td>0</td>\n",
       "      <td>...</td>\n",
       "      <td>0</td>\n",
       "      <td>0</td>\n",
       "      <td>0</td>\n",
       "      <td>0</td>\n",
       "      <td>0</td>\n",
       "      <td>0</td>\n",
       "      <td>0</td>\n",
       "      <td>0</td>\n",
       "      <td>1</td>\n",
       "      <td>0</td>\n",
       "    </tr>\n",
       "    <tr>\n",
       "      <th>82999</th>\n",
       "      <td>2024-08-23</td>\n",
       "      <td>13</td>\n",
       "      <td>3</td>\n",
       "      <td>14</td>\n",
       "      <td>-1752.0</td>\n",
       "      <td>-1921.0</td>\n",
       "      <td>242000115851</td>\n",
       "      <td>TSD40101C/D26a/P002</td>\n",
       "      <td>TSD40101C/D26</td>\n",
       "      <td>0</td>\n",
       "      <td>...</td>\n",
       "      <td>0</td>\n",
       "      <td>0</td>\n",
       "      <td>0</td>\n",
       "      <td>0</td>\n",
       "      <td>0</td>\n",
       "      <td>1</td>\n",
       "      <td>0</td>\n",
       "      <td>0</td>\n",
       "      <td>0</td>\n",
       "      <td>0</td>\n",
       "    </tr>\n",
       "    <tr>\n",
       "      <th>44874</th>\n",
       "      <td>2024-08-12</td>\n",
       "      <td>15</td>\n",
       "      <td>3</td>\n",
       "      <td>4</td>\n",
       "      <td>-1677.0</td>\n",
       "      <td>-1807.0</td>\n",
       "      <td>242000123407</td>\n",
       "      <td>TFO45301C/D20c/P037</td>\n",
       "      <td>TFO45301C/D20</td>\n",
       "      <td>0</td>\n",
       "      <td>...</td>\n",
       "      <td>0</td>\n",
       "      <td>0</td>\n",
       "      <td>0</td>\n",
       "      <td>0</td>\n",
       "      <td>0</td>\n",
       "      <td>0</td>\n",
       "      <td>0</td>\n",
       "      <td>0</td>\n",
       "      <td>0</td>\n",
       "      <td>0</td>\n",
       "    </tr>\n",
       "    <tr>\n",
       "      <th>53172</th>\n",
       "      <td>2024-08-15</td>\n",
       "      <td>7</td>\n",
       "      <td>3</td>\n",
       "      <td>26</td>\n",
       "      <td>-1554.0</td>\n",
       "      <td>-1783.0</td>\n",
       "      <td>242000209326</td>\n",
       "      <td>TJO41601B/D12a/P008</td>\n",
       "      <td>TJO41601B/D12</td>\n",
       "      <td>0</td>\n",
       "      <td>...</td>\n",
       "      <td>0</td>\n",
       "      <td>0</td>\n",
       "      <td>0</td>\n",
       "      <td>0</td>\n",
       "      <td>0</td>\n",
       "      <td>0</td>\n",
       "      <td>0</td>\n",
       "      <td>0</td>\n",
       "      <td>0</td>\n",
       "      <td>0</td>\n",
       "    </tr>\n",
       "  </tbody>\n",
       "</table>\n",
       "<p>10 rows × 40 columns</p>\n",
       "</div>"
      ],
      "text/plain": [
       "             Date  SN  PN  ONTID  OPTICSRXPOWER  OPTICSRXPOWERbyOLT  \\\n",
       "69254  2024-08-20   4   7     23        -1710.0             -2009.0   \n",
       "74252  2024-08-21   7  11      3        -1987.0             -2338.0   \n",
       "42017  2024-08-12   3  10      6        -1719.0             -1907.0   \n",
       "107388 2024-08-30  11  11      0        -1675.0             -1845.0   \n",
       "89990  2024-08-26   6   3      8        -1671.0             -1697.0   \n",
       "5523   2024-08-02   0  11      6        -1597.0             -1740.0   \n",
       "90622  2024-08-26   8   3     10        -1809.0             -1988.0   \n",
       "82999  2024-08-23  13   3     14        -1752.0             -1921.0   \n",
       "44874  2024-08-12  15   3      4        -1677.0             -1807.0   \n",
       "53172  2024-08-15   7   3     26        -1554.0             -1783.0   \n",
       "\n",
       "       ACCOUNT NUMBER               FAT_ID            FDT  OLT_TAM54501OLT01  \\\n",
       "69254    242000288731  TPI15901B/D13b/P021  TPI15901B/D13                  0   \n",
       "74252    242000099268  TPL17701B/D14b/P020  TPL17701B/D14                  0   \n",
       "42017    242000125868  TFO45301A/D05c/P007  TFO45301A/D05                  0   \n",
       "107388   242000036367  TAR40901B/D15c/P032  TAR40901B/D15                  0   \n",
       "89990    242000044392  TSU70801B/D09c/P034  TSU70801B/D09                  0   \n",
       "5523     242000076611  TCI45501B/D12a/P005  TCI45501B/D12                  0   \n",
       "90622    242000069459  TSU70801B/D13a/P008  TSU70801B/D13                  0   \n",
       "82999    242000115851  TSD40101C/D26a/P002  TSD40101C/D26                  0   \n",
       "44874    242000123407  TFO45301C/D20c/P037  TFO45301C/D20                  0   \n",
       "53172    242000209326  TJO41601B/D12a/P008  TJO41601B/D12                  0   \n",
       "\n",
       "        ...  OLT_TPA54901OLT01  OLT_TPH17101OLT01  OLT_TPI15901OLT01  \\\n",
       "69254   ...                  0                  0                  1   \n",
       "74252   ...                  0                  0                  0   \n",
       "42017   ...                  0                  0                  0   \n",
       "107388  ...                  0                  0                  0   \n",
       "89990   ...                  0                  0                  0   \n",
       "5523    ...                  0                  0                  0   \n",
       "90622   ...                  0                  0                  0   \n",
       "82999   ...                  0                  0                  0   \n",
       "44874   ...                  0                  0                  0   \n",
       "53172   ...                  0                  0                  0   \n",
       "\n",
       "        OLT_TPL17701OLT01  OLT_TSA36401OLT01  OLT_TSD40101OLT01  \\\n",
       "69254                   0                  0                  0   \n",
       "74252                   1                  0                  0   \n",
       "42017                   0                  0                  0   \n",
       "107388                  0                  0                  0   \n",
       "89990                   0                  0                  0   \n",
       "5523                    0                  0                  0   \n",
       "90622                   0                  0                  0   \n",
       "82999                   0                  0                  1   \n",
       "44874                   0                  0                  0   \n",
       "53172                   0                  0                  0   \n",
       "\n",
       "        OLT_TSD40102OLT02  OLT_TSK36201OLT01  OLT_TSU70801OLT01  \\\n",
       "69254                   0                  0                  0   \n",
       "74252                   0                  0                  0   \n",
       "42017                   0                  0                  0   \n",
       "107388                  0                  0                  0   \n",
       "89990                   0                  0                  1   \n",
       "5523                    0                  0                  0   \n",
       "90622                   0                  0                  1   \n",
       "82999                   0                  0                  0   \n",
       "44874                   0                  0                  0   \n",
       "53172                   0                  0                  0   \n",
       "\n",
       "        OLT_TUJ02701OLT01  \n",
       "69254                   0  \n",
       "74252                   0  \n",
       "42017                   0  \n",
       "107388                  0  \n",
       "89990                   0  \n",
       "5523                    0  \n",
       "90622                   0  \n",
       "82999                   0  \n",
       "44874                   0  \n",
       "53172                   0  \n",
       "\n",
       "[10 rows x 40 columns]"
      ]
     },
     "execution_count": 47,
     "metadata": {},
     "output_type": "execute_result"
    }
   ],
   "source": [
    "olt_encoded.sample(10)"
   ]
  },
  {
   "cell_type": "code",
   "execution_count": 49,
   "id": "01689ce2-dd72-4091-80b2-e89b4a0b6140",
   "metadata": {},
   "outputs": [
    {
     "data": {
      "text/plain": [
       "SN                   -0.033998\n",
       "PN                   -0.004221\n",
       "ONTID                -0.004911\n",
       "OPTICSRXPOWER         0.880109\n",
       "OPTICSRXPOWERbyOLT    1.000000\n",
       "OLT_TAM54501OLT01     0.031329\n",
       "OLT_TAN80901OLT01     0.022408\n",
       "OLT_TAR40901OLT01     0.067527\n",
       "OLT_TAS47001OLT01     0.048585\n",
       "OLT_TCI45501OLT01    -0.011349\n",
       "OLT_TCI45501OLT02     0.030297\n",
       "OLT_TCP71101OLT01    -0.117543\n",
       "OLT_TCS10001OLT01     0.019580\n",
       "OLT_TCX18501OLT01     0.008557\n",
       "OLT_TDA47401OLT01     0.042823\n",
       "OLT_TDB16001OLT01    -0.056849\n",
       "OLT_TDE06501OLT01    -0.029117\n",
       "OLT_TDL35101OLT01     0.052568\n",
       "OLT_TDV09201OLT01     0.005528\n",
       "OLT_TES02001OLT01     0.027498\n",
       "OLT_TFO45301OLT01     0.015665\n",
       "OLT_TGG48401OLT01     0.021827\n",
       "OLT_TGR70401OLT01    -0.150025\n",
       "OLT_TJO41601OLT01     0.016479\n",
       "OLT_TLV08501OLT01     0.034826\n",
       "OLT_TMY47301OLT01     0.067745\n",
       "OLT_TPA54901OLT01     0.022456\n",
       "OLT_TPH17101OLT01    -0.103107\n",
       "OLT_TPI15901OLT01     0.038560\n",
       "OLT_TPL17701OLT01    -0.063615\n",
       "OLT_TSA36401OLT01     0.038207\n",
       "OLT_TSD40101OLT01    -0.018813\n",
       "OLT_TSD40102OLT02    -0.076750\n",
       "OLT_TSK36201OLT01     0.030819\n",
       "OLT_TSU70801OLT01    -0.129407\n",
       "OLT_TUJ02701OLT01    -0.010149\n",
       "Name: OPTICSRXPOWERbyOLT, dtype: float64"
      ]
     },
     "execution_count": 49,
     "metadata": {},
     "output_type": "execute_result"
    }
   ],
   "source": [
    "olt_encoded.corr(numeric_only = True) [\"OPTICSRXPOWERbyOLT\"]"
   ]
  },
  {
   "cell_type": "code",
   "execution_count": 50,
   "id": "a131feb8-96c7-4bf4-bae4-837aae9ebfcd",
   "metadata": {},
   "outputs": [
    {
     "data": {
      "text/plain": [
       "20899"
      ]
     },
     "execution_count": 50,
     "metadata": {},
     "output_type": "execute_result"
    }
   ],
   "source": [
    "olt_encoded[\"FAT_ID\"].nunique()"
   ]
  },
  {
   "cell_type": "code",
   "execution_count": 51,
   "id": "bcce1f18-0115-4dca-ba27-797cc637af40",
   "metadata": {},
   "outputs": [
    {
     "data": {
      "text/plain": [
       "668"
      ]
     },
     "execution_count": 51,
     "metadata": {},
     "output_type": "execute_result"
    }
   ],
   "source": [
    "olt_encoded[\"FDT\"].nunique()"
   ]
  },
  {
   "cell_type": "code",
   "execution_count": 60,
   "id": "f57c156c-eeb1-469f-85de-86b33fee053d",
   "metadata": {},
   "outputs": [],
   "source": [
    "pd.options.mode.copy_on_write = True"
   ]
  },
  {
   "cell_type": "code",
   "execution_count": 66,
   "id": "486d1adb-03c0-4fb1-a456-e00ef2c467a0",
   "metadata": {},
   "outputs": [],
   "source": [
    "oltm[\"OPTICSRXPOWER\"] = (oltm[\"OPTICSRXPOWER\"] /100)\n",
    "oltm[\"OPTICSRXPOWERbyOLT\"] = (oltm[\"OPTICSRXPOWERbyOLT\"] /100) \n"
   ]
  },
  {
   "cell_type": "code",
   "execution_count": 71,
   "id": "fb52ec7d-79c4-4c94-bec9-53908611fdbb",
   "metadata": {},
   "outputs": [],
   "source": [
    "oltm = oltm.drop(columns =['OPTICSRXPOWER_Corrected'])"
   ]
  },
  {
   "cell_type": "code",
   "execution_count": 74,
   "id": "a6599e4f-4718-4404-9659-043f3dcac188",
   "metadata": {},
   "outputs": [],
   "source": [
    "oltm[\"OPTICSRXPOWER\"] = (oltm[\"OPTICSRXPOWER\"] *100)"
   ]
  },
  {
   "cell_type": "code",
   "execution_count": 75,
   "id": "95dde913-e144-40de-8275-93ea77463e31",
   "metadata": {},
   "outputs": [
    {
     "data": {
      "text/html": [
       "<div>\n",
       "<style scoped>\n",
       "    .dataframe tbody tr th:only-of-type {\n",
       "        vertical-align: middle;\n",
       "    }\n",
       "\n",
       "    .dataframe tbody tr th {\n",
       "        vertical-align: top;\n",
       "    }\n",
       "\n",
       "    .dataframe thead th {\n",
       "        text-align: right;\n",
       "    }\n",
       "</style>\n",
       "<table border=\"1\" class=\"dataframe\">\n",
       "  <thead>\n",
       "    <tr style=\"text-align: right;\">\n",
       "      <th></th>\n",
       "      <th>Date</th>\n",
       "      <th>OLT</th>\n",
       "      <th>SN</th>\n",
       "      <th>PN</th>\n",
       "      <th>ONTID</th>\n",
       "      <th>OPTICSRXPOWER</th>\n",
       "      <th>OPTICSRXPOWERbyOLT</th>\n",
       "      <th>ACCOUNT NUMBER</th>\n",
       "      <th>FAT_ID</th>\n",
       "      <th>FDT</th>\n",
       "    </tr>\n",
       "  </thead>\n",
       "  <tbody>\n",
       "    <tr>\n",
       "      <th>110860</th>\n",
       "      <td>2024-08-31</td>\n",
       "      <td>TAS47001OLT01</td>\n",
       "      <td>8</td>\n",
       "      <td>8</td>\n",
       "      <td>0</td>\n",
       "      <td>-16.16</td>\n",
       "      <td>-19.21</td>\n",
       "      <td>242000274689</td>\n",
       "      <td>TAS47001B/D14a/P004</td>\n",
       "      <td>TAS47001B/D14</td>\n",
       "    </tr>\n",
       "    <tr>\n",
       "      <th>74161</th>\n",
       "      <td>2024-08-21</td>\n",
       "      <td>TPL17701OLT01</td>\n",
       "      <td>7</td>\n",
       "      <td>7</td>\n",
       "      <td>16</td>\n",
       "      <td>-16.00</td>\n",
       "      <td>-17.86</td>\n",
       "      <td>242000274783</td>\n",
       "      <td>TPL17701B/D14a/P003</td>\n",
       "      <td>TPL17701B/D14</td>\n",
       "    </tr>\n",
       "    <tr>\n",
       "      <th>91702</th>\n",
       "      <td>2024-08-26</td>\n",
       "      <td>TSU70801OLT01</td>\n",
       "      <td>13</td>\n",
       "      <td>9</td>\n",
       "      <td>8</td>\n",
       "      <td>-22.84</td>\n",
       "      <td>-23.98</td>\n",
       "      <td>242000038125</td>\n",
       "      <td>TSU70801C/D19b/P022</td>\n",
       "      <td>TSU70801C/D19</td>\n",
       "    </tr>\n",
       "    <tr>\n",
       "      <th>78442</th>\n",
       "      <td>2024-08-22</td>\n",
       "      <td>TSA36401OLT01</td>\n",
       "      <td>5</td>\n",
       "      <td>13</td>\n",
       "      <td>10</td>\n",
       "      <td>-18.63</td>\n",
       "      <td>-20.46</td>\n",
       "      <td>242000046329</td>\n",
       "      <td>TSA36401A/D08b/P029</td>\n",
       "      <td>TSA36401A/D08</td>\n",
       "    </tr>\n",
       "    <tr>\n",
       "      <th>70787</th>\n",
       "      <td>2024-08-20</td>\n",
       "      <td>TPI15901OLT01</td>\n",
       "      <td>11</td>\n",
       "      <td>9</td>\n",
       "      <td>7</td>\n",
       "      <td>-16.32</td>\n",
       "      <td>-17.40</td>\n",
       "      <td>242000119017</td>\n",
       "      <td>TPI15901D/D31b/P037</td>\n",
       "      <td>TPI15901D/D31</td>\n",
       "    </tr>\n",
       "  </tbody>\n",
       "</table>\n",
       "</div>"
      ],
      "text/plain": [
       "             Date            OLT  SN  PN  ONTID  OPTICSRXPOWER  \\\n",
       "110860 2024-08-31  TAS47001OLT01   8   8      0         -16.16   \n",
       "74161  2024-08-21  TPL17701OLT01   7   7     16         -16.00   \n",
       "91702  2024-08-26  TSU70801OLT01  13   9      8         -22.84   \n",
       "78442  2024-08-22  TSA36401OLT01   5  13     10         -18.63   \n",
       "70787  2024-08-20  TPI15901OLT01  11   9      7         -16.32   \n",
       "\n",
       "        OPTICSRXPOWERbyOLT ACCOUNT NUMBER               FAT_ID            FDT  \n",
       "110860              -19.21   242000274689  TAS47001B/D14a/P004  TAS47001B/D14  \n",
       "74161               -17.86   242000274783  TPL17701B/D14a/P003  TPL17701B/D14  \n",
       "91702               -23.98   242000038125  TSU70801C/D19b/P022  TSU70801C/D19  \n",
       "78442               -20.46   242000046329  TSA36401A/D08b/P029  TSA36401A/D08  \n",
       "70787               -17.40   242000119017  TPI15901D/D31b/P037  TPI15901D/D31  "
      ]
     },
     "execution_count": 75,
     "metadata": {},
     "output_type": "execute_result"
    }
   ],
   "source": [
    "oltm.sample(5)"
   ]
  },
  {
   "cell_type": "code",
   "execution_count": 73,
   "id": "20211ac1-b840-4a72-b929-e04552f8197c",
   "metadata": {},
   "outputs": [
    {
     "data": {
      "image/png": "[encoded data removed]",
      "text/plain": [
       "<Figure size 640x480 with 2 Axes>"
      ]
     },
     "metadata": {},
     "output_type": "display_data"
    }
   ],
   "source": [
    "olt_corr = sns.heatmap(oltm.corr(numeric_only=True), cmap=\"magma\", annot=True)"
   ]
  },
  {
   "cell_type": "code",
   "execution_count": 56,
   "id": "8bf27374-b3b8-4297-aede-30e32a857cfd",
   "metadata": {},
   "outputs": [],
   "source": [
    "plt.show()"
   ]
  },
  {
   "cell_type": "code",
   "execution_count": 76,
   "id": "cc0b91c7-8972-4dbc-bac9-4370db5c5f1c",
   "metadata": {},
   "outputs": [
    {
     "data": {
      "text/plain": [
       "31"
      ]
     },
     "execution_count": 76,
     "metadata": {},
     "output_type": "execute_result"
    }
   ],
   "source": [
    "oltm[\"OLT\"].nunique()"
   ]
  },
  {
   "cell_type": "code",
   "execution_count": 77,
   "id": "990369c6-93e8-43a8-95c6-248b697a2d01",
   "metadata": {},
   "outputs": [
    {
     "data": {
      "text/plain": [
       "array(['TCI45501OLT01', 'TCI45501OLT02', 'TCP71101OLT01', 'TCS10001OLT01',\n",
       "       'TCX18501OLT01', 'TDA47401OLT01', 'TDB16001OLT01', 'TDE06501OLT01',\n",
       "       'TDL35101OLT01', 'TDV09201OLT01', 'TES02001OLT01', 'TFO45301OLT01',\n",
       "       'TGG48401OLT01', 'TGR70401OLT01', 'TJO41601OLT01', 'TLV08501OLT01',\n",
       "       'TMY47301OLT01', 'TPA54901OLT01', 'TPH17101OLT01', 'TPI15901OLT01',\n",
       "       'TPL17701OLT01', 'TSA36401OLT01', 'TSD40101OLT01', 'TSD40102OLT02',\n",
       "       'TSK36201OLT01', 'TSU70801OLT01', 'TUJ02701OLT01', 'TAM54501OLT01',\n",
       "       'TAN80901OLT01', 'TAR40901OLT01', 'TAS47001OLT01'], dtype=object)"
      ]
     },
     "execution_count": 77,
     "metadata": {},
     "output_type": "execute_result"
    }
   ],
   "source": [
    "oltm[\"OLT\"].unique()"
   ]
  },
  {
   "cell_type": "code",
   "execution_count": 147,
   "id": "ef8056dc-0b68-4e9e-aabc-e7d45dca85f2",
   "metadata": {},
   "outputs": [],
   "source": [
    "X = oltm[[\"OPTICSRXPOWER\"]]\n",
    "y = oltm[[\"OPTICSRXPOWERbyOLT\"]]"
   ]
  },
  {
   "cell_type": "code",
   "execution_count": 82,
   "id": "75321cf7-03d7-42b4-b487-6e578cade2c3",
   "metadata": {},
   "outputs": [
    {
     "data": {
      "text/html": [
       "<div>\n",
       "<style scoped>\n",
       "    .dataframe tbody tr th:only-of-type {\n",
       "        vertical-align: middle;\n",
       "    }\n",
       "\n",
       "    .dataframe tbody tr th {\n",
       "        vertical-align: top;\n",
       "    }\n",
       "\n",
       "    .dataframe thead th {\n",
       "        text-align: right;\n",
       "    }\n",
       "</style>\n",
       "<table border=\"1\" class=\"dataframe\">\n",
       "  <thead>\n",
       "    <tr style=\"text-align: right;\">\n",
       "      <th></th>\n",
       "      <th>OPTICSRXPOWER</th>\n",
       "    </tr>\n",
       "  </thead>\n",
       "  <tbody>\n",
       "    <tr>\n",
       "      <th>2</th>\n",
       "      <td>-17.77</td>\n",
       "    </tr>\n",
       "    <tr>\n",
       "      <th>3</th>\n",
       "      <td>-17.59</td>\n",
       "    </tr>\n",
       "    <tr>\n",
       "      <th>4</th>\n",
       "      <td>-18.12</td>\n",
       "    </tr>\n",
       "    <tr>\n",
       "      <th>5</th>\n",
       "      <td>-17.47</td>\n",
       "    </tr>\n",
       "    <tr>\n",
       "      <th>6</th>\n",
       "      <td>-17.54</td>\n",
       "    </tr>\n",
       "  </tbody>\n",
       "</table>\n",
       "</div>"
      ],
      "text/plain": [
       "   OPTICSRXPOWER\n",
       "2         -17.77\n",
       "3         -17.59\n",
       "4         -18.12\n",
       "5         -17.47\n",
       "6         -17.54"
      ]
     },
     "execution_count": 82,
     "metadata": {},
     "output_type": "execute_result"
    }
   ],
   "source": [
    "X.head()"
   ]
  },
  {
   "cell_type": "code",
   "execution_count": 84,
   "id": "5409a3f5-22ce-41bc-b554-cfe3c8c53ee0",
   "metadata": {},
   "outputs": [],
   "source": [
    "X =sm.add_constant(X)"
   ]
  },
  {
   "cell_type": "code",
   "execution_count": 85,
   "id": "019b8246-5b6d-4893-9a51-7435987eb2f5",
   "metadata": {},
   "outputs": [
    {
     "data": {
      "text/html": [
       "<div>\n",
       "<style scoped>\n",
       "    .dataframe tbody tr th:only-of-type {\n",
       "        vertical-align: middle;\n",
       "    }\n",
       "\n",
       "    .dataframe tbody tr th {\n",
       "        vertical-align: top;\n",
       "    }\n",
       "\n",
       "    .dataframe thead th {\n",
       "        text-align: right;\n",
       "    }\n",
       "</style>\n",
       "<table border=\"1\" class=\"dataframe\">\n",
       "  <thead>\n",
       "    <tr style=\"text-align: right;\">\n",
       "      <th></th>\n",
       "      <th>const</th>\n",
       "      <th>OPTICSRXPOWER</th>\n",
       "    </tr>\n",
       "  </thead>\n",
       "  <tbody>\n",
       "    <tr>\n",
       "      <th>2</th>\n",
       "      <td>1.0</td>\n",
       "      <td>-17.77</td>\n",
       "    </tr>\n",
       "    <tr>\n",
       "      <th>3</th>\n",
       "      <td>1.0</td>\n",
       "      <td>-17.59</td>\n",
       "    </tr>\n",
       "    <tr>\n",
       "      <th>4</th>\n",
       "      <td>1.0</td>\n",
       "      <td>-18.12</td>\n",
       "    </tr>\n",
       "    <tr>\n",
       "      <th>5</th>\n",
       "      <td>1.0</td>\n",
       "      <td>-17.47</td>\n",
       "    </tr>\n",
       "    <tr>\n",
       "      <th>6</th>\n",
       "      <td>1.0</td>\n",
       "      <td>-17.54</td>\n",
       "    </tr>\n",
       "  </tbody>\n",
       "</table>\n",
       "</div>"
      ],
      "text/plain": [
       "   const  OPTICSRXPOWER\n",
       "2    1.0         -17.77\n",
       "3    1.0         -17.59\n",
       "4    1.0         -18.12\n",
       "5    1.0         -17.47\n",
       "6    1.0         -17.54"
      ]
     },
     "execution_count": 85,
     "metadata": {},
     "output_type": "execute_result"
    }
   ],
   "source": [
    "X.head()"
   ]
  },
  {
   "cell_type": "code",
   "execution_count": 148,
   "id": "1801ac5b-ab14-4597-ae65-ae1684cfd47b",
   "metadata": {},
   "outputs": [
    {
     "name": "stdout",
     "output_type": "stream",
     "text": [
      "                                 OLS Regression Results                                \n",
      "=======================================================================================\n",
      "Dep. Variable:     OPTICSRXPOWERbyOLT   R-squared (uncentered):                   0.995\n",
      "Model:                            OLS   Adj. R-squared (uncentered):              0.995\n",
      "Method:                 Least Squares   F-statistic:                          2.014e+07\n",
      "Date:                Mon, 07 Oct 2024   Prob (F-statistic):                        0.00\n",
      "Time:                        09:28:47   Log-Likelihood:                     -1.9796e+05\n",
      "No. Observations:              106894   AIC:                                  3.959e+05\n",
      "Df Residuals:                  106893   BIC:                                  3.959e+05\n",
      "Df Model:                           1                                                  \n",
      "Covariance Type:            nonrobust                                                  \n",
      "=================================================================================\n",
      "                    coef    std err          t      P>|t|      [0.025      0.975]\n",
      "---------------------------------------------------------------------------------\n",
      "OPTICSRXPOWER     1.1246      0.000   4487.852      0.000       1.124       1.125\n",
      "==============================================================================\n",
      "Omnibus:                    24968.347   Durbin-Watson:                   1.232\n",
      "Prob(Omnibus):                  0.000   Jarque-Bera (JB):           832446.884\n",
      "Skew:                           0.437   Prob(JB):                         0.00\n",
      "Kurtosis:                      16.643   Cond. No.                         1.00\n",
      "==============================================================================\n",
      "\n",
      "Notes:\n",
      "[1] R² is computed without centering (uncentered) since the model does not contain a constant.\n",
      "[2] Standard Errors assume that the covariance matrix of the errors is correctly specified.\n"
     ]
    }
   ],
   "source": [
    "reg_res = sm.OLS(y,X).fit()\n",
    "print(reg_res.summary())"
   ]
  },
  {
   "cell_type": "code",
   "execution_count": 100,
   "id": "f2ed327e-eec5-4c58-97e2-6746cc6eb998",
   "metadata": {},
   "outputs": [],
   "source": [
    "pred_y = reg_res.predict(X)"
   ]
  },
  {
   "cell_type": "code",
   "execution_count": 101,
   "id": "8c5b740f-0dec-4325-a29d-44ae2070c102",
   "metadata": {},
   "outputs": [],
   "source": [
    "data = oltm.copy()"
   ]
  },
  {
   "cell_type": "code",
   "execution_count": 102,
   "id": "5e25e115-84dd-4a56-bd79-860b5e722441",
   "metadata": {},
   "outputs": [],
   "source": [
    "data = data.drop(columns = [\"Date\",\"SN\",\"PN\",\"ONTID\",\"ACCOUNT NUMBER\",\"FAT_ID\",\"FDT\"])"
   ]
  },
  {
   "cell_type": "code",
   "execution_count": 103,
   "id": "c8717c78-a3eb-41ac-ac63-4e8d51c8b2f0",
   "metadata": {},
   "outputs": [
    {
     "data": {
      "text/html": [
       "<div>\n",
       "<style scoped>\n",
       "    .dataframe tbody tr th:only-of-type {\n",
       "        vertical-align: middle;\n",
       "    }\n",
       "\n",
       "    .dataframe tbody tr th {\n",
       "        vertical-align: top;\n",
       "    }\n",
       "\n",
       "    .dataframe thead th {\n",
       "        text-align: right;\n",
       "    }\n",
       "</style>\n",
       "<table border=\"1\" class=\"dataframe\">\n",
       "  <thead>\n",
       "    <tr style=\"text-align: right;\">\n",
       "      <th></th>\n",
       "      <th>OLT</th>\n",
       "      <th>OPTICSRXPOWER</th>\n",
       "      <th>OPTICSRXPOWERbyOLT</th>\n",
       "    </tr>\n",
       "  </thead>\n",
       "  <tbody>\n",
       "    <tr>\n",
       "      <th>2</th>\n",
       "      <td>TCI45501OLT01</td>\n",
       "      <td>-17.77</td>\n",
       "      <td>-20.18</td>\n",
       "    </tr>\n",
       "    <tr>\n",
       "      <th>3</th>\n",
       "      <td>TCI45501OLT01</td>\n",
       "      <td>-17.59</td>\n",
       "      <td>-20.51</td>\n",
       "    </tr>\n",
       "    <tr>\n",
       "      <th>4</th>\n",
       "      <td>TCI45501OLT01</td>\n",
       "      <td>-18.12</td>\n",
       "      <td>-20.32</td>\n",
       "    </tr>\n",
       "    <tr>\n",
       "      <th>5</th>\n",
       "      <td>TCI45501OLT01</td>\n",
       "      <td>-17.47</td>\n",
       "      <td>-20.05</td>\n",
       "    </tr>\n",
       "    <tr>\n",
       "      <th>6</th>\n",
       "      <td>TCI45501OLT01</td>\n",
       "      <td>-17.54</td>\n",
       "      <td>-19.96</td>\n",
       "    </tr>\n",
       "  </tbody>\n",
       "</table>\n",
       "</div>"
      ],
      "text/plain": [
       "             OLT  OPTICSRXPOWER  OPTICSRXPOWERbyOLT\n",
       "2  TCI45501OLT01         -17.77              -20.18\n",
       "3  TCI45501OLT01         -17.59              -20.51\n",
       "4  TCI45501OLT01         -18.12              -20.32\n",
       "5  TCI45501OLT01         -17.47              -20.05\n",
       "6  TCI45501OLT01         -17.54              -19.96"
      ]
     },
     "execution_count": 103,
     "metadata": {},
     "output_type": "execute_result"
    }
   ],
   "source": [
    "data.head()\n"
   ]
  },
  {
   "cell_type": "code",
   "execution_count": 104,
   "id": "5eb5681c-f82b-4346-8cde-084fc7c01e14",
   "metadata": {},
   "outputs": [],
   "source": [
    "data[\"predicted_OPTICSRXPOWERbyOLT\"] = pred_y"
   ]
  },
  {
   "cell_type": "code",
   "execution_count": 105,
   "id": "95c07d9d-c3a4-4d86-a26d-670b2deec0ab",
   "metadata": {},
   "outputs": [
    {
     "data": {
      "text/html": [
       "<div>\n",
       "<style scoped>\n",
       "    .dataframe tbody tr th:only-of-type {\n",
       "        vertical-align: middle;\n",
       "    }\n",
       "\n",
       "    .dataframe tbody tr th {\n",
       "        vertical-align: top;\n",
       "    }\n",
       "\n",
       "    .dataframe thead th {\n",
       "        text-align: right;\n",
       "    }\n",
       "</style>\n",
       "<table border=\"1\" class=\"dataframe\">\n",
       "  <thead>\n",
       "    <tr style=\"text-align: right;\">\n",
       "      <th></th>\n",
       "      <th>OLT</th>\n",
       "      <th>OPTICSRXPOWER</th>\n",
       "      <th>OPTICSRXPOWERbyOLT</th>\n",
       "      <th>predicted_OPTICSRXPOWERbyOLT</th>\n",
       "    </tr>\n",
       "  </thead>\n",
       "  <tbody>\n",
       "    <tr>\n",
       "      <th>2</th>\n",
       "      <td>TCI45501OLT01</td>\n",
       "      <td>-17.77</td>\n",
       "      <td>-20.18</td>\n",
       "      <td>-20.164774</td>\n",
       "    </tr>\n",
       "    <tr>\n",
       "      <th>3</th>\n",
       "      <td>TCI45501OLT01</td>\n",
       "      <td>-17.59</td>\n",
       "      <td>-20.51</td>\n",
       "      <td>-19.988148</td>\n",
       "    </tr>\n",
       "    <tr>\n",
       "      <th>4</th>\n",
       "      <td>TCI45501OLT01</td>\n",
       "      <td>-18.12</td>\n",
       "      <td>-20.32</td>\n",
       "      <td>-20.508212</td>\n",
       "    </tr>\n",
       "    <tr>\n",
       "      <th>5</th>\n",
       "      <td>TCI45501OLT01</td>\n",
       "      <td>-17.47</td>\n",
       "      <td>-20.05</td>\n",
       "      <td>-19.870398</td>\n",
       "    </tr>\n",
       "    <tr>\n",
       "      <th>6</th>\n",
       "      <td>TCI45501OLT01</td>\n",
       "      <td>-17.54</td>\n",
       "      <td>-19.96</td>\n",
       "      <td>-19.939086</td>\n",
       "    </tr>\n",
       "  </tbody>\n",
       "</table>\n",
       "</div>"
      ],
      "text/plain": [
       "             OLT  OPTICSRXPOWER  OPTICSRXPOWERbyOLT  \\\n",
       "2  TCI45501OLT01         -17.77              -20.18   \n",
       "3  TCI45501OLT01         -17.59              -20.51   \n",
       "4  TCI45501OLT01         -18.12              -20.32   \n",
       "5  TCI45501OLT01         -17.47              -20.05   \n",
       "6  TCI45501OLT01         -17.54              -19.96   \n",
       "\n",
       "   predicted_OPTICSRXPOWERbyOLT  \n",
       "2                    -20.164774  \n",
       "3                    -19.988148  \n",
       "4                    -20.508212  \n",
       "5                    -19.870398  \n",
       "6                    -19.939086  "
      ]
     },
     "execution_count": 105,
     "metadata": {},
     "output_type": "execute_result"
    }
   ],
   "source": [
    "data.head()"
   ]
  },
  {
   "cell_type": "code",
   "execution_count": 112,
   "id": "3e10367e-2195-4dbe-a353-b75c442bed1c",
   "metadata": {},
   "outputs": [
    {
     "data": {
      "image/png": "[encoded data removed]",
      "text/plain": [
       "<Figure size 640x480 with 1 Axes>"
      ]
     },
     "metadata": {},
     "output_type": "display_data"
    }
   ],
   "source": [
    "sns.residplot(data= data, x=\"OPTICSRXPOWERbyOLT\", y=\"predicted_OPTICSRXPOWERbyOLT\", label=\"Residuals\", color=\"Red\")\n",
    "plt.show()"
   ]
  },
  {
   "cell_type": "code",
   "execution_count": 109,
   "id": "1773a01c-f96a-429a-a0fd-045e988f0e87",
   "metadata": {},
   "outputs": [
    {
     "name": "stdout",
     "output_type": "stream",
     "text": [
      "<class 'pandas.core.frame.DataFrame'>\n",
      "Index: 106894 entries, 2 to 112394\n",
      "Data columns (total 4 columns):\n",
      " #   Column                        Non-Null Count   Dtype  \n",
      "---  ------                        --------------   -----  \n",
      " 0   OLT                           106894 non-null  object \n",
      " 1   OPTICSRXPOWER                 106894 non-null  float64\n",
      " 2   OPTICSRXPOWERbyOLT            106894 non-null  float64\n",
      " 3   predicted_OPTICSRXPOWERbyOLT  106894 non-null  float64\n",
      "dtypes: float64(3), object(1)\n",
      "memory usage: 4.1+ MB\n"
     ]
    }
   ],
   "source": [
    "data.info()"
   ]
  },
  {
   "cell_type": "code",
   "execution_count": 140,
   "id": "634bd41e-7156-45d1-9289-7f2555a920f4",
   "metadata": {},
   "outputs": [],
   "source": [
    "\n"
   ]
  },
  {
   "cell_type": "code",
   "execution_count": 122,
   "id": "c984098c-2fda-4172-b8cc-312619bc1357",
   "metadata": {},
   "outputs": [],
   "source": []
  },
  {
   "cell_type": "code",
   "execution_count": 124,
   "id": "a1f2d128-5769-45f8-a11d-2ce0fc91cfcd",
   "metadata": {},
   "outputs": [
    {
     "data": {
      "text/html": [
       "<div>\n",
       "<style scoped>\n",
       "    .dataframe tbody tr th:only-of-type {\n",
       "        vertical-align: middle;\n",
       "    }\n",
       "\n",
       "    .dataframe tbody tr th {\n",
       "        vertical-align: top;\n",
       "    }\n",
       "\n",
       "    .dataframe thead th {\n",
       "        text-align: right;\n",
       "    }\n",
       "</style>\n",
       "<table border=\"1\" class=\"dataframe\">\n",
       "  <thead>\n",
       "    <tr style=\"text-align: right;\">\n",
       "      <th></th>\n",
       "      <th>OLT</th>\n",
       "      <th>OPTICSRXPOWER</th>\n",
       "      <th>OPTICSRXPOWERbyOLT</th>\n",
       "      <th>predicted_OPTICSRXPOWERbyOLT</th>\n",
       "    </tr>\n",
       "  </thead>\n",
       "  <tbody>\n",
       "    <tr>\n",
       "      <th>2</th>\n",
       "      <td>TCI45501OLT01</td>\n",
       "      <td>-17.77</td>\n",
       "      <td>-20.18</td>\n",
       "      <td>-20.164774</td>\n",
       "    </tr>\n",
       "    <tr>\n",
       "      <th>3</th>\n",
       "      <td>TCI45501OLT01</td>\n",
       "      <td>-17.59</td>\n",
       "      <td>-20.51</td>\n",
       "      <td>-19.988148</td>\n",
       "    </tr>\n",
       "    <tr>\n",
       "      <th>4</th>\n",
       "      <td>TCI45501OLT01</td>\n",
       "      <td>-18.12</td>\n",
       "      <td>-20.32</td>\n",
       "      <td>-20.508212</td>\n",
       "    </tr>\n",
       "    <tr>\n",
       "      <th>5</th>\n",
       "      <td>TCI45501OLT01</td>\n",
       "      <td>-17.47</td>\n",
       "      <td>-20.05</td>\n",
       "      <td>-19.870398</td>\n",
       "    </tr>\n",
       "    <tr>\n",
       "      <th>6</th>\n",
       "      <td>TCI45501OLT01</td>\n",
       "      <td>-17.54</td>\n",
       "      <td>-19.96</td>\n",
       "      <td>-19.939086</td>\n",
       "    </tr>\n",
       "  </tbody>\n",
       "</table>\n",
       "</div>"
      ],
      "text/plain": [
       "             OLT  OPTICSRXPOWER  OPTICSRXPOWERbyOLT  \\\n",
       "2  TCI45501OLT01         -17.77              -20.18   \n",
       "3  TCI45501OLT01         -17.59              -20.51   \n",
       "4  TCI45501OLT01         -18.12              -20.32   \n",
       "5  TCI45501OLT01         -17.47              -20.05   \n",
       "6  TCI45501OLT01         -17.54              -19.96   \n",
       "\n",
       "   predicted_OPTICSRXPOWERbyOLT  \n",
       "2                    -20.164774  \n",
       "3                    -19.988148  \n",
       "4                    -20.508212  \n",
       "5                    -19.870398  \n",
       "6                    -19.939086  "
      ]
     },
     "execution_count": 124,
     "metadata": {},
     "output_type": "execute_result"
    }
   ],
   "source": [
    "input_df.head()"
   ]
  },
  {
   "cell_type": "code",
   "execution_count": 142,
   "id": "f9cd7d8e-72fc-4dec-9824-413fe425b992",
   "metadata": {},
   "outputs": [],
   "source": [
    "OLT = ['TPH17101OLT01']\n",
    "OLT_TPH = data[data.OLT.isin(OLT)]"
   ]
  },
  {
   "cell_type": "code",
   "execution_count": 130,
   "id": "bc62964c-4b14-4898-8917-928ef2302f82",
   "metadata": {},
   "outputs": [
    {
     "data": {
      "text/plain": [
       "(1482, 4)"
      ]
     },
     "execution_count": 130,
     "metadata": {},
     "output_type": "execute_result"
    }
   ],
   "source": [
    "OLT_TPH.shape\n"
   ]
  },
  {
   "cell_type": "code",
   "execution_count": 145,
   "id": "c0d3c218-9785-4742-955e-73bb6ac5e42d",
   "metadata": {},
   "outputs": [
    {
     "data": {
      "image/png": "[encoded data removed]",
      "text/plain": [
       "<Figure size 640x480 with 1 Axes>"
      ]
     },
     "metadata": {},
     "output_type": "display_data"
    }
   ],
   "source": [
    "sns.residplot(data= OLT_TPH, x=\"OPTICSRXPOWERbyOLT\", y=\"predicted_OPTICSRXPOWERbyOLT\", label=\"Residuals\",  color=\"Red\")\n",
    "plt.show()"
   ]
  },
  {
   "cell_type": "code",
   "execution_count": 166,
   "id": "960c334d-1020-4768-b2f8-d2186ababda2",
   "metadata": {},
   "outputs": [],
   "source": [
    "from sklearn.model_selection import train_test_split\n",
    "from sklearn.linear_model import LinearRegression\n",
    "from sklearn.metrics import r2_score  "
   ]
  },
  {
   "cell_type": "code",
   "execution_count": 164,
   "id": "994233a0-5071-49b0-bed8-0a6a0d24e067",
   "metadata": {},
   "outputs": [
    {
     "data": {
      "text/plain": [
       "0.7798122189992389"
      ]
     },
     "execution_count": 164,
     "metadata": {},
     "output_type": "execute_result"
    }
   ],
   "source": [
    "# Split the data into training and testing sets\n",
    "X_train, X_test, y_train, y_test = train_test_split(X, y, test_size=0.2, random_state=0)\n",
    "\n",
    "# Create and train the linear regression model\n",
    "model = LinearRegression()\n",
    "model.fit(X_train, y_train)\n",
    "\n",
    "# Make predictions on the test set\n",
    "y_pred = model.predict(X_test)\n",
    "\n",
    "# Calculate the R squared score\n",
    "r2_score = r2_score(y_test, y_pred)\n",
    "\n",
    "# Output the mean squared error\n",
    "r2_score"
   ]
  },
  {
   "cell_type": "code",
   "execution_count": 159,
   "id": "5232e604-42a5-4555-9bff-3baddc247628",
   "metadata": {},
   "outputs": [
    {
     "data": {
      "text/plain": [
       "Text(0, 0.5, 'OPTICSRXPOWERbyOLT')"
      ]
     },
     "execution_count": 159,
     "metadata": {},
     "output_type": "execute_result"
    },
    {
     "data": {
      "image/png": "[encoded data removed]",
      "text/plain": [
       "<Figure size 640x480 with 1 Axes>"
      ]
     },
     "metadata": {},
     "output_type": "display_data"
    }
   ],
   "source": [
    "plt.scatter(X, y , color=\"red\")\n",
    "plt.xlabel(\"OPTICSRXPOWER\")\n",
    "plt.ylabel(\"OPTICSRXPOWERbyOLT\")"
   ]
  },
  {
   "cell_type": "code",
   "execution_count": 167,
   "id": "0c25961b-b37d-430a-a584-e8debe5a4d0b",
   "metadata": {},
   "outputs": [
    {
     "data": {
      "text/plain": [
       "0.002331122278689035"
      ]
     },
     "execution_count": 167,
     "metadata": {},
     "output_type": "execute_result"
    }
   ],
   "source": [
    "# Calculate the R squared score\n",
    "r2_score_TPH = r2_score(X, y)\n",
    "\n",
    "# Output the mean squared error\n",
    "r2_score_TPH"
   ]
  },
  {
   "cell_type": "code",
   "execution_count": 177,
   "id": "dc2a7986-0d88-46d7-a11c-ea9235a8ea4e",
   "metadata": {},
   "outputs": [
    {
     "data": {
      "image/png": "[encoded data removed]",
      "text/plain": [
       "<Figure size 640x480 with 1 Axes>"
      ]
     },
     "metadata": {},
     "output_type": "display_data"
    }
   ],
   "source": [
    "p= sns.regplot(data = OLT_TPH, x=\"OPTICSRXPOWER\", y=\"OPTICSRXPOWERbyOLT\", color=\"Red\")\n",
    "plt.show()"
   ]
  },
  {
   "cell_type": "code",
   "execution_count": 169,
   "id": "1774826f-3277-40ac-9aaf-4e237df25a4f",
   "metadata": {},
   "outputs": [],
   "source": [
    "import scipy"
   ]
  },
  {
   "cell_type": "code",
   "execution_count": 181,
   "id": "5199d41e-c523-45bf-bdf6-7aa50690fc42",
   "metadata": {},
   "outputs": [
    {
     "data": {
      "text/plain": [
       "Text(-27.5, -20, 'y = -6.86 + 0.886x')"
      ]
     },
     "execution_count": 181,
     "metadata": {},
     "output_type": "execute_result"
    },
    {
     "data": {
      "image/png": "[encoded data removed]",
      "text/plain": [
       "<Figure size 640x480 with 1 Axes>"
      ]
     },
     "metadata": {},
     "output_type": "display_data"
    }
   ],
   "source": [
    "p= sns.regplot(data = OLT_TPH, x=\"OPTICSRXPOWER\", y=\"OPTICSRXPOWERbyOLT\", color=\"Red\")\n",
    "\n",
    "#calculate slope and intercept of regression equation\n",
    "\n",
    "slope, intercept, r, p, sterr = scipy.stats.linregress(x=p.get_lines()[0].get_xdata(), y=p.get_lines()[0].get_ydata())\n",
    "\n",
    "#add regression equation to plot \n",
    "plt.text(-27.5, -20, 'y = ' + str(round(intercept,3)) + ' + ' + str(round(slope,3)) + 'x')"
   ]
  },
  {
   "cell_type": "code",
   "execution_count": 182,
   "id": "748f819e-e973-41fa-a6a1-ca76e725befd",
   "metadata": {},
   "outputs": [
    {
     "data": {
      "text/html": [
       "<div>\n",
       "<style scoped>\n",
       "    .dataframe tbody tr th:only-of-type {\n",
       "        vertical-align: middle;\n",
       "    }\n",
       "\n",
       "    .dataframe tbody tr th {\n",
       "        vertical-align: top;\n",
       "    }\n",
       "\n",
       "    .dataframe thead th {\n",
       "        text-align: right;\n",
       "    }\n",
       "</style>\n",
       "<table border=\"1\" class=\"dataframe\">\n",
       "  <thead>\n",
       "    <tr style=\"text-align: right;\">\n",
       "      <th></th>\n",
       "      <th>OPTICSRXPOWER</th>\n",
       "      <th>OPTICSRXPOWERbyOLT</th>\n",
       "      <th>predicted_OPTICSRXPOWERbyOLT</th>\n",
       "    </tr>\n",
       "  </thead>\n",
       "  <tbody>\n",
       "    <tr>\n",
       "      <th>count</th>\n",
       "      <td>1482.000000</td>\n",
       "      <td>1482.000000</td>\n",
       "      <td>1482.000000</td>\n",
       "    </tr>\n",
       "    <tr>\n",
       "      <th>mean</th>\n",
       "      <td>-19.029426</td>\n",
       "      <td>-23.711532</td>\n",
       "      <td>-21.400590</td>\n",
       "    </tr>\n",
       "    <tr>\n",
       "      <th>std</th>\n",
       "      <td>2.420288</td>\n",
       "      <td>2.520854</td>\n",
       "      <td>2.374915</td>\n",
       "    </tr>\n",
       "    <tr>\n",
       "      <th>min</th>\n",
       "      <td>-31.540000</td>\n",
       "      <td>-35.230000</td>\n",
       "      <td>-33.676627</td>\n",
       "    </tr>\n",
       "    <tr>\n",
       "      <th>25%</th>\n",
       "      <td>-20.130000</td>\n",
       "      <td>-25.090000</td>\n",
       "      <td>-22.480531</td>\n",
       "    </tr>\n",
       "    <tr>\n",
       "      <th>50%</th>\n",
       "      <td>-18.585000</td>\n",
       "      <td>-23.470000</td>\n",
       "      <td>-20.964495</td>\n",
       "    </tr>\n",
       "    <tr>\n",
       "      <th>75%</th>\n",
       "      <td>-17.440000</td>\n",
       "      <td>-22.150000</td>\n",
       "      <td>-19.840960</td>\n",
       "    </tr>\n",
       "    <tr>\n",
       "      <th>max</th>\n",
       "      <td>-13.910000</td>\n",
       "      <td>-17.620000</td>\n",
       "      <td>-16.377137</td>\n",
       "    </tr>\n",
       "  </tbody>\n",
       "</table>\n",
       "</div>"
      ],
      "text/plain": [
       "       OPTICSRXPOWER  OPTICSRXPOWERbyOLT  predicted_OPTICSRXPOWERbyOLT\n",
       "count    1482.000000         1482.000000                   1482.000000\n",
       "mean      -19.029426          -23.711532                    -21.400590\n",
       "std         2.420288            2.520854                      2.374915\n",
       "min       -31.540000          -35.230000                    -33.676627\n",
       "25%       -20.130000          -25.090000                    -22.480531\n",
       "50%       -18.585000          -23.470000                    -20.964495\n",
       "75%       -17.440000          -22.150000                    -19.840960\n",
       "max       -13.910000          -17.620000                    -16.377137"
      ]
     },
     "execution_count": 182,
     "metadata": {},
     "output_type": "execute_result"
    }
   ],
   "source": [
    "OLT_TPH.describe()"
   ]
  },
  {
   "cell_type": "code",
   "execution_count": null,
   "id": "4edf6bad-e576-4fd9-9d3a-98d36064ab3f",
   "metadata": {},
   "outputs": [],
   "source": []
  }
 ],
 "metadata": {
  "kernelspec": {
   "display_name": "Python 3 (ipykernel)",
   "language": "python",
   "name": "python3"
  },
  "language_info": {
   "codemirror_mode": {
    "name": "ipython",
    "version": 3
   },
   "file_extension": ".py",
   "mimetype": "text/x-python",
   "name": "python",
   "nbconvert_exporter": "python",
   "pygments_lexer": "ipython3",
   "version": "3.12.4"
  }
 },
 "nbformat": 4,
 "nbformat_minor": 5
}
